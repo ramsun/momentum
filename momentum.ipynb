{
  "nbformat": 4,
  "nbformat_minor": 0,
  "metadata": {
    "colab": {
      "name": "momentum.ipynb",
      "provenance": [],
      "collapsed_sections": []
    },
    "kernelspec": {
      "name": "python3",
      "display_name": "Python 3"
    }
  },
  "cells": [
    {
      "cell_type": "markdown",
      "metadata": {
        "id": "UWk5jaQLb7FV"
      },
      "source": [
        "# Momentum Based Gradient Descent Algorithm \n",
        "This section aims to use momentum based GD to solve the optimization of the following error function:\n",
        "$$𝑓(𝑥,𝑦)=𝑧=-\\sqrt{25−(𝑥−2)^2−(𝑦−3)^2}$$\n",
        "\n",
        "This function is the bottom half of a sphere.  "
      ]
    },
    {
      "cell_type": "markdown",
      "metadata": {
        "id": "F0gNCxmy34LZ"
      },
      "source": [
        "**Equation and Description of Momentum Based Gradient Descent:**\n",
        "$$ update_{t} = \\gamma*update_{t-1} + \\eta* \\frac{\\partial z}{\\partial t}\\|{{\\scriptscriptstyle t}}$$\n",
        "$$ x_{t+1} = x_{t} \\pm update_{t}$$\n",
        "\n",
        "Momentum differs in the way it converges to a solution compared to vanilla gradient descent.  It reduces the risk of getting stuck in a local minimum, as well as speeds up the convergence considerably in cases where the process would otherwise zig-zag heavily.  It uses a momentum term in analogy to \"the mass of Newtonian particles that move through a viscous medium in a conservative force field\"."
      ]
    },
    {
      "cell_type": "markdown",
      "metadata": {
        "id": "ous-Q3DWEsDb"
      },
      "source": [
        "## Implementation of The Momentum Method"
      ]
    },
    {
      "cell_type": "code",
      "metadata": {
        "id": "YQreAUREV1WM"
      },
      "source": [
        "import numpy as np\n",
        "import matplotlib.pyplot as plt\n",
        "import math"
      ],
      "execution_count": 1,
      "outputs": []
    },
    {
      "cell_type": "code",
      "metadata": {
        "id": "EvoH3kKMbwyp"
      },
      "source": [
        "# Function defs of the function and the partial derivatives\n",
        "def sphere_function(x,y):\n",
        "  z = math.sqrt((25 - (x-2)**2 - (y-3)**2)) # ** for carrot (^) symbol\n",
        "  return z\n",
        "\n",
        "def dz_dx(x,y):\n",
        "  output = (x-2) / math.sqrt(25 - (x-2)**2 - (y-3)**2)\n",
        "  return output\n",
        "\n",
        "def dz_dy(x,y):\n",
        "  output = (y-3) / math.sqrt(25 - (x-2)**2 - (y-3)**2)\n",
        "  return output"
      ],
      "execution_count": 2,
      "outputs": []
    },
    {
      "cell_type": "code",
      "metadata": {
        "id": "0V--6h5-kAf7"
      },
      "source": [
        "max_steps = 2000\n",
        "\n",
        "# GD base parameters\n",
        "learning_rate = 0.01\n",
        "x_current = 0\n",
        "y_current = 0\n",
        "x_history = np.zeros(max_steps)\n",
        "y_history = np.zeros(max_steps)\n",
        "# Momentum parameters\n",
        "x_update = 0\n",
        "y_update = 0\n",
        "gamma = 0.9 # Gamma is usually set to something high between 0 and 1\n",
        "for i in range(max_steps):\n",
        "  x_history[i] = x_current\n",
        "  y_history[i] = y_current\n",
        "  dx = dz_dx(x_current,y_current)\n",
        "  dy = dz_dy(x_current,y_current)\n",
        "  # Minimization means subtraction of partial derivative. Increment x and y\n",
        "  x_current = x_current - learning_rate * dx\n",
        "  y_current = y_current - learning_rate * dy\n",
        "\n",
        "  # updates hold onto the values from the pervious values\n",
        "  # This is where the momentum is built\n",
        "  x_update = (gamma * x_update) + (learning_rate * dx)\n",
        "  y_update = (gamma * x_update) + (learning_rate * dy)\n",
        "  x_current = x_current - x_update # Subtract for minimization\n",
        "  y_current = y_current - y_update"
      ],
      "execution_count": 3,
      "outputs": []
    },
    {
      "cell_type": "code",
      "metadata": {
        "id": "hDpujj5NVxK8",
        "outputId": "89467248-48d6-4493-fc2e-4ab0db2a390d",
        "colab": {
          "base_uri": "https://localhost:8080/",
          "height": 348
        }
      },
      "source": [
        "# Plotting the histories to see where convergence occurs\n",
        "plt.plot(x_history, 'r')\n",
        "plt.plot(y_history , 'g')\n",
        "plt.legend(['x', 'y'],loc=\"best\")\n",
        "plt.title(\"Momentum Based Gradient Descent [$\\eta$ = 0.01]\")\n",
        "plt.xlabel(\"Steps\")\n",
        "plt.axhline(y=2, xmin=0, xmax=7500)\n",
        "plt.axhline(y=3, xmin=0, xmax=7500)\n",
        "print(\"Number of iterations = \", max_steps)\n",
        "print(\"Max x value from gradient descent: \", x_history[max_steps-1])\n",
        "print(\"Max y value from gradient descent: \", y_history[max_steps-1])"
      ],
      "execution_count": 4,
      "outputs": [
        {
          "output_type": "stream",
          "text": [
            "Number of iterations =  2000\n",
            "Max x value from gradient descent:  1.9999999999999967\n",
            "Max y value from gradient descent:  2.9996799416076954\n"
          ],
          "name": "stdout"
        },
        {
          "output_type": "display_data",
          "data": {
            "image/png": "[encoded data removed]",
            "text/plain": [
              "<Figure size 432x288 with 1 Axes>"
            ]
          },
          "metadata": {
            "tags": [],
            "needs_background": "light"
          }
        }
      ]
    },
    {
      "cell_type": "code",
      "metadata": {
        "id": "8-sg0NFk8dfQ",
        "outputId": "793a7498-ca89-46df-c433-d891d62f10ca",
        "colab": {
          "base_uri": "https://localhost:8080/",
          "height": 68
        }
      },
      "source": [
        "# Now, we ought to check how quickly this convergence actually happens\n",
        "# Input: 'x' or 'y' as strings, which tells the function which function to\n",
        "# count the number of convergence steps for. \n",
        "# Output: Number of steps it took for the GD algorithm to converge to a solution\n",
        "# This exact convergence occurs when the diffrential increments dx or dy come\n",
        "# close to zero.  It never will reach zero, so we set a threshold, epsilon, to\n",
        "# 0.00001, where we are close enough to our solution.\n",
        "def convergence_steps(x_or_y):\n",
        "  # GD base parameters\n",
        "  max_steps = 6000\n",
        "  learning_rate = 0.01\n",
        "  epsilon = 0.000001\n",
        "  x_current = 0\n",
        "  y_current = 0\n",
        "  # Momentum parameters\n",
        "  x_update = 0\n",
        "  y_update = 0\n",
        "  gamma = 0.9 # Gamma is usually set to something high between 0 and 1\n",
        "  for i in range(max_steps):\n",
        "    dx = dz_dx(x_current,y_current)\n",
        "    dy = dz_dy(x_current,y_current)\n",
        "    # Minimization means subtraction of partial derivative. Increment x and y\n",
        "    x_current = x_current - learning_rate * dx\n",
        "    y_current = y_current - learning_rate * dy\n",
        "\n",
        "    # updates hold onto the values from the pervious values\n",
        "    # This is where the momentum is built\n",
        "    x_update = (gamma * x_update) + (learning_rate * dx)\n",
        "    y_update = (gamma * x_update) + (learning_rate * dy)\n",
        "    x_current = x_current - x_update # Subtract for minimization\n",
        "    y_current = y_current - y_update\n",
        "  \n",
        "    # Check if convergence is for x or y variable\n",
        "    if (x_or_y == 'x'):\n",
        "      # Take the absolute of dx and dy to handle +/- values\n",
        "      if (abs(dx) <= epsilon):\n",
        "        num_steps = i\n",
        "        return num_steps\n",
        "    elif (x_or_y == 'y'):\n",
        "      if (abs(dy) <= epsilon):\n",
        "        num_steps = i\n",
        "        return num_steps\n",
        "\n",
        "# Calculate number of iterations needed to converge to the minimum value of z\n",
        "convergence_steps_x = convergence_steps('x')\n",
        "convergence_steps_y = convergence_steps('y')\n",
        "\n",
        "print(\"For an initial value of x = 0 and y = 0:\")\n",
        "print(\"Steps needed to converge to x: \", convergence_steps_x)\n",
        "print(\"Steps needed to converge to y: \", convergence_steps_y)"
      ],
      "execution_count": 5,
      "outputs": [
        {
          "output_type": "stream",
          "text": [
            "For an initial value of x = 0 and y = 0:\n",
            "Steps needed to converge to x:  430\n",
            "Steps needed to converge to y:  3037\n"
          ],
          "name": "stdout"
        }
      ]
    },
    {
      "cell_type": "markdown",
      "metadata": {
        "id": "swMaNrH8EWis"
      },
      "source": [
        "## Comparison between Gradient Descent and Momentum Based Gradient Descent\n",
        "\n",
        "GD has trouble converging to a solution when there is no slope along the curve for an increment to occur.  This means that it cannot converge if the initial point is on a flat part of the curve with no slope.\n",
        "\n",
        "The way momentum based gradient descent (MGD) aims to solve this problem is by building momentum.\n",
        "\n",
        "For an initial value of x = 0 and y = 0 and hyperparameters $\\epsilon = 0.000001$, $\\eta = 0.01$, and $\\lambda = 0.9$:  \n",
        "* _Vanilla gradient descent:_  \n",
        "Steps needed to converge to x:  6373   \n",
        "Steps needed to converge to y:  6576  \n",
        "* _Gradient descent with momentum:_  \n",
        "Steps needed to converge to x:  430  \n",
        "Steps needed to converge to y:  3037  \n",
        "\n",
        "**Plots of convergence patterns:**  \n",
        "<img src=\"https://drive.google.com/uc?id=1kNH2JFnVGMGJUce2ZmB2SYu720X0UXXC\" width=\"400\" height=\"300\" />\n",
        "<img src=\"https://drive.google.com/uc?id=1sYZBxb0JN1-cfLg-eJRMJ69YGWsrUEcp\" width=\"400\" height=\"300\" />  \n",
        "\n",
        "The number of steps used for the momentum simlulation was only 2000 because of how much quicker it converged.  With all parameters held the same and using the same error function, momentum took considerably less steps to converge to a solution.  \n",
        "\n"
      ]
    }
  ]
}